{
 "cells": [
  {
   "cell_type": "code",
   "execution_count": 1,
   "metadata": {},
   "outputs": [],
   "source": [
    "import numpy as np\n",
    "from matplotlib import pyplot as plt"
   ]
  },
  {
   "cell_type": "code",
   "execution_count": 3,
   "metadata": {},
   "outputs": [
    {
     "name": "stdout",
     "output_type": "stream",
     "text": [
      "----Mplat__:17839100.0\n",
      "----gravity__:197361896.4\n",
      "----gravity_should be__:197508065.4\n",
      "----Buoy__:2272486.5\n",
      "----sectional mass__:52900.0\n",
      "----delta z__:-4850.436585365854\n"
     ]
    },
    {
     "data": {
      "text/plain": [
       "2279340.0"
      ]
     },
     "execution_count": 3,
     "metadata": {},
     "output_type": "execute_result"
    }
   ],
   "source": [
    "Mpontoon = 4.2138e6*3\n",
    "Mside = 1.5341e6*3 # here\n",
    "\n",
    "Mcentral = 5.954e5\n",
    "Mtower = 1.2627e6\n",
    "Mfoil = 65250*3\n",
    "MRNA = 6.3089e5 + 1.9e5 + Mfoil\n",
    "Mplat = Mpontoon + Mside + Mcentral\n",
    "M_plat_rigid = 1.7854e+07\n",
    "M_tot_appr = Mplat + Mtower + MRNA\n",
    "M_tot_rigid = M_plat_rigid + Mtower + MRNA\n",
    "\n",
    "#print('Mrigid:'+ str(M_tot_rigid) )\n",
    "print('----Mplat__:'+ str(Mplat) )\n",
    "# print(MRNA)\n",
    "G=M_tot_appr*9.81\n",
    "print('----gravity__:' + str(G))\n",
    "print('----gravity_should be__:' + str(M_tot_rigid*9.81 ))\n",
    "A_central = 1\n",
    "L_col = 13\n",
    "A_side = 1\n",
    "A__pon = 1\n",
    "L_pon = 58\n",
    "\n",
    "Vol = (A_central*L_col) + 3*(A_side*L_col) + 3*(A__pon*L_pon) \n",
    "B = (Vol)*1025*9.81\n",
    "print('----Buoy__:' +str(B))\n",
    "#B = B + 1.5 *(3*A_side + A_central)*1025*9.81\n",
    "\n",
    "print('----sectional mass__:'+ str((G/9.81-MRNA-Mtower-Mpontoon-Mcentral)/3/29))\n",
    "\n",
    "print('----delta z__:' + str((B-G)/1025/9.81/(3*A_side + A_central)))\n",
    "\n",
    "Mplat*9.81\n",
    "Mtower + MRNA"
   ]
  },
  {
   "cell_type": "code",
   "execution_count": 4,
   "metadata": {},
   "outputs": [
    {
     "data": {
      "text/plain": [
       "17243700.0"
      ]
     },
     "execution_count": 4,
     "metadata": {},
     "output_type": "execute_result"
    }
   ],
   "source": [
    "Mpontoon + Mside"
   ]
  },
  {
   "cell_type": "code",
   "execution_count": 17,
   "metadata": {},
   "outputs": [
    {
     "data": {
      "text/plain": [
       "4874765314.149"
      ]
     },
     "execution_count": 17,
     "metadata": {},
     "output_type": "execute_result"
    }
   ],
   "source": [
    "4.3e5*1025*9.81+20174.8*9.81*1025*(-10.63)-(20174.8*9.81*1025 -2.28e6*9.81)*(-15)"
   ]
  },
  {
   "cell_type": "code",
   "execution_count": 4,
   "metadata": {},
   "outputs": [],
   "source": [
    "rho_ave = Mplat/20206"
   ]
  },
  {
   "cell_type": "code",
   "execution_count": 22,
   "metadata": {},
   "outputs": [
    {
     "data": {
      "text/plain": [
       "159319116.66666666"
      ]
     },
     "execution_count": 22,
     "metadata": {},
     "output_type": "execute_result"
    }
   ],
   "source": [
    "28743 + 30797\n",
    "Ixx_onethird = Mpontoon/3 *(58**2 + 7**2)/12 +  Mpontoon/3 * (29**2 + 16.5**2) + Mside/3 *(3*6.25**2 + 28**2)/12 + Mside/3 *(1**2 + 51.75**2) + Mcentral*(3*5**2 + 28**2)/12 + Mcentral*(14**2)\n",
    "Ixx_onethird * 3/2\n",
    "\n",
    "Mcentral*(3*5**2 + 28**2)/12 + Mcentral*(14**2)\n"
   ]
  },
  {
   "cell_type": "code",
   "execution_count": 26,
   "metadata": {},
   "outputs": [
    {
     "name": "stdout",
     "output_type": "stream",
     "text": [
      "122.7184630308513\n",
      "78.53981633974483\n",
      "Volumen:18363.25378586805\n",
      "Buoy:184647107.63034973\n",
      "14135585.491249949\n"
     ]
    }
   ],
   "source": [
    "A_central = (12.5/2)**2 * np.pi\n",
    "print(A_central)\n",
    "\n",
    "A_side = (10/2)**2 * np.pi\n",
    "print(A_side)\n",
    "\n",
    "V_pon = 3*(7*12.5*51.25 + (12.5/2)**2*np.pi/2 + 12.5*12.5/np.sqrt(3)/4) \n",
    "V_cols = 3* A_side*13\n",
    "V_colc = A_central*13\n",
    "Vol = V_pon + V_cols + V_colc\n",
    "\n",
    "Buoy_floater = Vol*1025*9.81\n",
    "print('Volumen:' + str(Vol))\n",
    "print('Buoy:' + str(Buoy_floater))\n",
    "(52910+38755)/2\n",
    "\n",
    "delta_G = G-M_tot_rigid*9.81\n",
    "print(2.0285e+08-B-(delta_G))\n"
   ]
  }
 ],
 "metadata": {
  "interpreter": {
   "hash": "b860392a1b2c4069a415f5a14f7a02e631d44d2510af9b9d300fc651c19dd6d6"
  },
  "kernelspec": {
   "display_name": "Python 3.9.2 64-bit",
   "language": "python",
   "name": "python3"
  },
  "language_info": {
   "codemirror_mode": {
    "name": "ipython",
    "version": 3
   },
   "file_extension": ".py",
   "mimetype": "text/x-python",
   "name": "python",
   "nbconvert_exporter": "python",
   "pygments_lexer": "ipython3",
   "version": "3.9.2"
  },
  "orig_nbformat": 4
 },
 "nbformat": 4,
 "nbformat_minor": 2
}
